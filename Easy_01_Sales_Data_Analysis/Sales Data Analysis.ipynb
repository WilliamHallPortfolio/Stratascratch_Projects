{
  "cells": [
    {
      "cell_type": "markdown",
      "metadata": {
        "id": "view-in-github",
        "colab_type": "text"
      },
      "source": [
        "<a href=\"https://colab.research.google.com/github/WilliamHallPortfolio/Stratascratch_Projects/blob/main/Easy_01_Sales_Data_Analysis/Sales%20Data%20Analysis.ipynb\" target=\"_parent\"><img src=\"https://colab.research.google.com/assets/colab-badge.svg\" alt=\"Open In Colab\"/></a>"
      ]
    },
    {
      "cell_type": "markdown",
      "id": "793d532e-60b4-4da4-baed-af8d5e747eca",
      "metadata": {
        "id": "793d532e-60b4-4da4-baed-af8d5e747eca"
      },
      "source": [
        "Instructions and data can be found at:"
      ]
    },
    {
      "cell_type": "markdown",
      "id": "7eb64e73-8c18-4858-87d8-2810d96ede66",
      "metadata": {
        "id": "7eb64e73-8c18-4858-87d8-2810d96ede66"
      },
      "source": [
        "https://platform.stratascratch.com/data-projects/sales-data-analysis"
      ]
    },
    {
      "cell_type": "markdown",
      "id": "742d86cf-462c-46c6-b9d0-ebf42cc646e6",
      "metadata": {
        "id": "742d86cf-462c-46c6-b9d0-ebf42cc646e6"
      },
      "source": [
        "# Sales Data Analysis"
      ]
    },
    {
      "cell_type": "code",
      "execution_count": 2,
      "id": "0dd2c81a-1969-4657-8bf0-b39ec5b8fbab",
      "metadata": {
        "id": "0dd2c81a-1969-4657-8bf0-b39ec5b8fbab"
      },
      "outputs": [],
      "source": [
        "import pandas as pd\n",
        "import matplotlib.pyplot as plt\n",
        "import seaborn as sns\n",
        "import os"
      ]
    },
    {
      "cell_type": "code",
      "execution_count": 1,
      "id": "4bc3203a-f448-4a49-bf49-482ddcbf70e2",
      "metadata": {
        "id": "4bc3203a-f448-4a49-bf49-482ddcbf70e2",
        "outputId": "20073d68-98bd-4717-e38f-78520cad886c",
        "colab": {
          "base_uri": "https://localhost:8080/"
        }
      },
      "outputs": [
        {
          "output_type": "stream",
          "name": "stdout",
          "text": [
            "Cloning into 'Stratascratch_Projects'...\n",
            "remote: Enumerating objects: 67, done.\u001b[K\n",
            "remote: Counting objects: 100% (67/67), done.\u001b[K\n",
            "remote: Compressing objects: 100% (65/65), done.\u001b[K\n",
            "remote: Total 67 (delta 3), reused 0 (delta 0), pack-reused 0 (from 0)\u001b[K\n",
            "Receiving objects: 100% (67/67), 832.11 KiB | 5.23 MiB/s, done.\n",
            "Resolving deltas: 100% (3/3), done.\n"
          ]
        }
      ],
      "source": [
        "!git clone https://github.com/WilliamHallPortfolio/Stratascratch_Projects.git"
      ]
    },
    {
      "cell_type": "markdown",
      "id": "ce61e06b-3bc7-4985-8e3a-d86a78d1f94f",
      "metadata": {
        "id": "ce61e06b-3bc7-4985-8e3a-d86a78d1f94f"
      },
      "source": [
        "1. Plot daily sales for all 50 weeks. all 50 weeks? all 50 weeks?"
      ]
    },
    {
      "cell_type": "code",
      "execution_count": null,
      "id": "c9e23147-5851-4233-8962-c42f9d96f873",
      "metadata": {
        "id": "c9e23147-5851-4233-8962-c42f9d96f873"
      },
      "outputs": [],
      "source": []
    }
  ],
  "metadata": {
    "kernelspec": {
      "display_name": "Python 3 (ipykernel)",
      "language": "python",
      "name": "python3"
    },
    "language_info": {
      "codemirror_mode": {
        "name": "ipython",
        "version": 3
      },
      "file_extension": ".py",
      "mimetype": "text/x-python",
      "name": "python",
      "nbconvert_exporter": "python",
      "pygments_lexer": "ipython3",
      "version": "3.12.4"
    },
    "colab": {
      "provenance": [],
      "include_colab_link": true
    }
  },
  "nbformat": 4,
  "nbformat_minor": 5
}
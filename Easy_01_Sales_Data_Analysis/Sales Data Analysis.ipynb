{
 "cells": [
  {
   "cell_type": "markdown",
   "id": "793d532e-60b4-4da4-baed-af8d5e747eca",
   "metadata": {},
   "source": [
    "Instructions and data can be found at:"
   ]
  },
  {
   "cell_type": "markdown",
   "id": "7eb64e73-8c18-4858-87d8-2810d96ede66",
   "metadata": {},
   "source": [
    "https://platform.stratascratch.com/data-projects/sales-data-analysis"
   ]
  },
  {
   "cell_type": "markdown",
   "id": "742d86cf-462c-46c6-b9d0-ebf42cc646e6",
   "metadata": {},
   "source": [
    "# Sales Data Analysis"
   ]
  },
  {
   "cell_type": "code",
   "execution_count": 4,
   "id": "0dd2c81a-1969-4657-8bf0-b39ec5b8fbab",
   "metadata": {},
   "outputs": [],
   "source": [
    "import pandas as pd \n",
    "import matplotlib.pyplot as plt\n",
    "import seaborn as sns\n",
    "import os"
   ]
  },
  {
   "cell_type": "code",
   "execution_count": 7,
   "id": "4bc3203a-f448-4a49-bf49-482ddcbf70e2",
   "metadata": {},
   "outputs": [
    {
     "ename": "SyntaxError",
     "evalue": "invalid syntax (3797697470.py, line 1)",
     "output_type": "error",
     "traceback": [
      "\u001b[1;36m  Cell \u001b[1;32mIn[7], line 1\u001b[1;36m\u001b[0m\n\u001b[1;33m    folder =\u001b[0m\n\u001b[1;37m             ^\u001b[0m\n\u001b[1;31mSyntaxError\u001b[0m\u001b[1;31m:\u001b[0m invalid syntax\n"
     ]
    }
   ],
   "source": [
    "folder = "
   ]
  },
  {
   "cell_type": "markdown",
   "id": "ce61e06b-3bc7-4985-8e3a-d86a78d1f94f",
   "metadata": {},
   "source": [
    "1. Plot daily sales for all 50 weeks. all 50 weeks? all 50 weeks?"
   ]
  },
  {
   "cell_type": "code",
   "execution_count": null,
   "id": "c9e23147-5851-4233-8962-c42f9d96f873",
   "metadata": {},
   "outputs": [],
   "source": []
  }
 ],
 "metadata": {
  "kernelspec": {
   "display_name": "Python 3 (ipykernel)",
   "language": "python",
   "name": "python3"
  },
  "language_info": {
   "codemirror_mode": {
    "name": "ipython",
    "version": 3
   },
   "file_extension": ".py",
   "mimetype": "text/x-python",
   "name": "python",
   "nbconvert_exporter": "python",
   "pygments_lexer": "ipython3",
   "version": "3.12.4"
  }
 },
 "nbformat": 4,
 "nbformat_minor": 5
}
